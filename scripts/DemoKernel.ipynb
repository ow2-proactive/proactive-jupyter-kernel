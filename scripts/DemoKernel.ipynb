{
 "cells": [
  {
   "cell_type": "markdown",
   "metadata": {},
   "source": [
    "### Printing kernel features"
   ]
  },
  {
   "cell_type": "code",
   "execution_count": 1,
   "metadata": {},
   "outputs": [
    {
     "name": "stdout",
     "output_type": "stream",
     "text": [
      "\n",
      "#%connect(): connects to an ActiveEon server\n",
      "#%task(): creates/modifies a task\n",
      "#%pre_script(): sets the pre-script of a task\n",
      "#%post_script(): sets the post-script of a task\n",
      "#%selection_script(): sets the selection script of a task\n",
      "#%fork_env(): sets the fork environment script\n",
      "#%job(): creates/renames the job\n",
      "#%draw_job(): plot the workflow\n",
      "#%write_dot(): writes the workflow in .dot format\n",
      "#%submit_job(): submits the job to the scheduler\n",
      "#%get_result(): gets and prints the job results\n",
      "\n",
      "For more information, please check: https://github.com/ow2-proactive/proactive-jupyter-kernel/blob/master/README.md\n"
     ]
    }
   ],
   "source": [
    "#%help()"
   ]
  },
  {
   "cell_type": "markdown",
   "metadata": {},
   "source": [
    "### Connecting to default host"
   ]
  },
  {
   "cell_type": "code",
   "execution_count": null,
   "metadata": {},
   "outputs": [],
   "source": [
    "#%connect(login=LOGIN,password=PASSWORD)"
   ]
  },
  {
   "cell_type": "markdown",
   "metadata": {},
   "source": [
    "### Creating the first task named _hi_"
   ]
  },
  {
   "cell_type": "code",
   "execution_count": 3,
   "metadata": {},
   "outputs": [
    {
     "name": "stdout",
     "output_type": "stream",
     "text": [
      "WARNING: Proactive is connected by default on 'http://try.activeeon.com:8080'.\n",
      "Creating a proactive 'Python' task...\n",
      "Adding a selection script to the proactive task...\n",
      "Task 'hi' created.\n",
      "Done.\n"
     ]
    }
   ],
   "source": [
    "#%  task(name=hi)\n",
    "print('Hello world')"
   ]
  },
  {
   "cell_type": "markdown",
   "metadata": {},
   "source": [
    "### Adding a selection script to _hi_"
   ]
  },
  {
   "cell_type": "code",
   "execution_count": 4,
   "metadata": {},
   "outputs": [
    {
     "name": "stdout",
     "output_type": "stream",
     "text": [
      "WARNING: Proactive is connected by default on 'http://try.activeeon.com:8080'.\n",
      "Adding a selection script to the proactive task...\n",
      "Selection script added to 'hi'.\n"
     ]
    }
   ],
   "source": [
    "#%selection_script(name=hi)\n",
    "selected = True"
   ]
  },
  {
   "cell_type": "markdown",
   "metadata": {},
   "source": [
    "### Adding a selection script to _hi_"
   ]
  },
  {
   "cell_type": "code",
   "execution_count": 5,
   "metadata": {},
   "outputs": [
    {
     "name": "stdout",
     "output_type": "stream",
     "text": [
      "WARNING: Proactive is connected by default on 'http://try.activeeon.com:8080'.\n",
      "Adding a fork environment to the proactive task...\n",
      "Fork environment added to 'hi'.\n"
     ]
    }
   ],
   "source": [
    "#%fork_env(name=hi,path=./fork_env.py)"
   ]
  },
  {
   "cell_type": "markdown",
   "metadata": {},
   "source": [
    "### Creating the task _location_"
   ]
  },
  {
   "cell_type": "code",
   "execution_count": 6,
   "metadata": {},
   "outputs": [
    {
     "name": "stdout",
     "output_type": "stream",
     "text": [
      "WARNING: Proactive is connected by default on 'http://try.activeeon.com:8080'.\n",
      "Creating a proactive 'Python' task...\n",
      "Adding a selection script to the proactive task...\n",
      "Task 'location' created.\n",
      "Dependence 'hi'==>'location' added.\n",
      "Done.\n"
     ]
    }
   ],
   "source": [
    "#%task(   name   =  location  , dep = [hi]  )\n",
    "print('From Jupyter Kernel!')\n",
    "result = 123"
   ]
  },
  {
   "cell_type": "markdown",
   "metadata": {},
   "source": [
    "### Adding a post-script to _location_"
   ]
  },
  {
   "cell_type": "code",
   "execution_count": 7,
   "metadata": {},
   "outputs": [
    {
     "name": "stdout",
     "output_type": "stream",
     "text": [
      "WARNING: Proactive is connected by default on 'http://try.activeeon.com:8080'.\n",
      "Adding a post-script to the proactive task...\n",
      "Post-script added to 'location'.\n"
     ]
    }
   ],
   "source": [
    "#%post_script(name=location,language=Python)\n",
    "print('But I am leaving soon.')"
   ]
  },
  {
   "cell_type": "markdown",
   "metadata": {},
   "source": [
    "### Plotting the workflow"
   ]
  },
  {
   "cell_type": "code",
   "execution_count": 8,
   "metadata": {},
   "outputs": [
    {
     "name": "stdout",
     "output_type": "stream",
     "text": [
      "WARNING: Proactive is connected by default on 'http://try.activeeon.com:8080'.\n",
      "Creating the job workflow...\n",
      "Workflow created.\n",
      "Plotting...\n"
     ]
    },
    {
     "data": {
      "image/png": "[encoded data removed]"
     },
     "metadata": {},
     "output_type": "display_data"
    }
   ],
   "source": [
    "#%draw_job()"
   ]
  },
  {
   "cell_type": "markdown",
   "metadata": {},
   "source": [
    "### Creating the job name _HelloWorldKernel_"
   ]
  },
  {
   "cell_type": "code",
   "execution_count": 9,
   "metadata": {},
   "outputs": [
    {
     "name": "stdout",
     "output_type": "stream",
     "text": [
      "WARNING: Proactive is connected by default on 'http://try.activeeon.com:8080'.\n",
      "Creating a proactive job...\n",
      "Job 'HelloWorldKernel' created.\n",
      "Adding the created tasks to 'HelloWorldKernel' ...\n"
     ]
    }
   ],
   "source": [
    "#%job(name=HelloWorldKernel)"
   ]
  },
  {
   "cell_type": "markdown",
   "metadata": {},
   "source": [
    "### Submitting the job to the scheduler"
   ]
  },
  {
   "cell_type": "code",
   "execution_count": 10,
   "metadata": {},
   "outputs": [
    {
     "name": "stdout",
     "output_type": "stream",
     "text": [
      "WARNING: Proactive is connected by default on 'http://try.activeeon.com:8080'.\n",
      "Submitting the job to the proactive scheduler...\n",
      "job_id: 1193\n"
     ]
    }
   ],
   "source": [
    "#%submit_job()"
   ]
  },
  {
   "cell_type": "markdown",
   "metadata": {},
   "source": [
    "### Getting results"
   ]
  },
  {
   "cell_type": "code",
   "execution_count": 11,
   "metadata": {},
   "outputs": [
    {
     "name": "stdout",
     "output_type": "stream",
     "text": [
      "WARNING: Proactive is connected by default on 'http://try.activeeon.com:8080'.\n",
      "Getting job 1193 output...\n",
      "Result:\n",
      "True\n",
      "123"
     ]
    }
   ],
   "source": [
    "#%get_result(id=1193)"
   ]
  },
  {
   "cell_type": "code",
   "execution_count": null,
   "metadata": {},
   "outputs": [],
   "source": []
  }
 ],
 "metadata": {
  "kernelspec": {
   "display_name": "ProActive",
   "language": "python",
   "name": "proactive"
  },
  "language_info": {
   "codemirror_mode": "python",
   "file_extension": ".py",
   "mimetype": "text/x-python",
   "name": "python"
  }
 },
 "nbformat": 4,
 "nbformat_minor": 2
}
