{
 "cells": [
  {
   "cell_type": "code",
   "execution_count": 1,
   "metadata": {},
   "outputs": [
    {
     "ename": "Proactive error",
     "evalue": "Use #%connect() to connect to server first.",
     "execution_count": 1,
     "output_type": "error",
     "traceback": []
    }
   ],
   "source": [
    "#%task(name=t1,dep=t2)\n",
    "print('Hello world')\n",
    "print('From Jupyter Kernel!')"
   ]
  },
  {
   "cell_type": "code",
   "execution_count": 2,
   "metadata": {},
   "outputs": [
    {
     "ename": "Parsing error",
     "evalue": "Invalid parameters",
     "execution_count": 2,
     "output_type": "error",
     "traceback": []
    }
   ],
   "source": [
    "#%connect(name=MYLOGIN,password=MYPASSWORD)"
   ]
  },
  {
   "cell_type": "code",
   "execution_count": 3,
   "metadata": {},
   "outputs": [
    {
     "name": "stdout",
     "output_type": "stream",
     "text": [
      "Connecting to server ...\n",
      "Connected!"
     ]
    }
   ],
   "source": [
    "#%connect(login=MYLOGIN,password=MYPASSWORD)"
   ]
  },
  {
   "cell_type": "code",
   "execution_count": 4,
   "metadata": {},
   "outputs": [
    {
     "name": "stdout",
     "output_type": "stream",
     "text": [
      "WARNING: Proactive is already connected.\n",
      "Disconnecting from server: http://try.activeeon.com:8080 ...\n",
      "Connecting to server ...\n",
      "Connected!"
     ]
    }
   ],
   "source": [
    "#%connect(host=try.activeeon.com,port=8080,login=MYLOGIN,password=MYPASSWORD)"
   ]
  },
  {
   "cell_type": "code",
   "execution_count": 6,
   "metadata": {},
   "outputs": [
    {
     "ename": "Pragma error",
     "evalue": "Directive 'task t1' not known.",
     "execution_count": 6,
     "output_type": "error",
     "traceback": []
    }
   ],
   "source": [
    "#%task t1\n",
    "print('Hello world')\n",
    "print('From Jupyter Kernel!')"
   ]
  },
  {
   "cell_type": "code",
   "execution_count": 7,
   "metadata": {},
   "outputs": [
    {
     "ename": "Parsing error",
     "evalue": "Invalid parameters",
     "execution_count": 7,
     "output_type": "error",
     "traceback": []
    }
   ],
   "source": [
    "#%selection_script()"
   ]
  },
  {
   "cell_type": "code",
   "execution_count": 8,
   "metadata": {},
   "outputs": [
    {
     "name": "stdout",
     "output_type": "stream",
     "text": [
      "Creating a proactive task...\n",
      "Adding a selection script to the proactive task...\n",
      "Task 't1' created.\n"
     ]
    }
   ],
   "source": [
    "#%  task(name=t1,dep=t2)\n",
    "print('Hello world')\n",
    "print('From Jupyter Kernel!')"
   ]
  },
  {
   "cell_type": "code",
   "execution_count": 9,
   "metadata": {},
   "outputs": [
    {
     "ename": "Parsing error",
     "evalue": "Invalid parameters",
     "execution_count": 9,
     "output_type": "error",
     "traceback": []
    }
   ],
   "source": [
    "#%selection_script()"
   ]
  },
  {
   "cell_type": "code",
   "execution_count": 10,
   "metadata": {},
   "outputs": [
    {
     "ename": "Proactive error",
     "evalue": "The task named 'notatask' does not exist.",
     "execution_count": 10,
     "output_type": "error",
     "traceback": []
    }
   ],
   "source": [
    "#%selection_script(name=notatask)\n",
    "selected = True"
   ]
  },
  {
   "cell_type": "code",
   "execution_count": 11,
   "metadata": {},
   "outputs": [
    {
     "name": "stdout",
     "output_type": "stream",
     "text": [
      "Adding a selection script to the proactive task...\n",
      "Selection script added to 't1'.\n"
     ]
    }
   ],
   "source": [
    "#%selection_script(name=t1)\n",
    "selected = True"
   ]
  },
  {
   "cell_type": "code",
   "execution_count": 12,
   "metadata": {},
   "outputs": [
    {
     "ename": "Parsing error",
     "evalue": "Invalid parameters",
     "execution_count": 12,
     "output_type": "error",
     "traceback": []
    }
   ],
   "source": [
    "#%fork_env()"
   ]
  },
  {
   "cell_type": "code",
   "execution_count": 13,
   "metadata": {},
   "outputs": [
    {
     "name": "stdout",
     "output_type": "stream",
     "text": [
      "Adding a fork environment to the proactive task...\n"
     ]
    },
    {
     "ename": "Proactive error",
     "evalue": "The file './fork_eenv.py' does not exist",
     "execution_count": 13,
     "output_type": "error",
     "traceback": []
    }
   ],
   "source": [
    "#%fork_env(name=t1,path=./fork_eenv.py)"
   ]
  },
  {
   "cell_type": "code",
   "execution_count": 14,
   "metadata": {},
   "outputs": [
    {
     "name": "stdout",
     "output_type": "stream",
     "text": [
      "Adding a fork environment to the proactive task...\n",
      "Fork environment added to 't1'.\n"
     ]
    }
   ],
   "source": [
    "#%fork_env(name=t1,path=./fork_env.py)"
   ]
  },
  {
   "cell_type": "code",
   "execution_count": 15,
   "metadata": {},
   "outputs": [
    {
     "ename": "Syntax error",
     "evalue": "invalid syntax (<unknown>, line 1)",
     "execution_count": 15,
     "output_type": "error",
     "traceback": []
    }
   ],
   "source": [
    "print(Hello world)\n",
    "print(\"Bazar!\")"
   ]
  },
  {
   "cell_type": "code",
   "execution_count": 16,
   "metadata": {},
   "outputs": [
    {
     "name": "stdout",
     "output_type": "stream",
     "text": [
      "Creating a proactive task...\n",
      "WARNING: Task '' renamed to : DT1\n",
      "Adding a selection script to the proactive task...\n",
      "Task 'DT1' created.\n"
     ]
    }
   ],
   "source": [
    "print('Hi!')\n",
    "print('From Jupyter too!')"
   ]
  },
  {
   "cell_type": "code",
   "execution_count": 17,
   "metadata": {},
   "outputs": [
    {
     "ename": "Parsing error",
     "evalue": "Invalid parameters",
     "execution_count": 17,
     "output_type": "error",
     "traceback": []
    }
   ],
   "source": [
    "#%job(0)"
   ]
  },
  {
   "cell_type": "code",
   "execution_count": 18,
   "metadata": {},
   "outputs": [
    {
     "name": "stdout",
     "output_type": "stream",
     "text": [
      "Creating a proactive job...\n",
      "Job 'J1_Jupyter' created.\n",
      "Adding the created tasks to 'J1_Jupyter' ...\n"
     ]
    }
   ],
   "source": [
    "#%job(name=J1_Jupyter)"
   ]
  },
  {
   "cell_type": "code",
   "execution_count": 19,
   "metadata": {},
   "outputs": [
    {
     "name": "stdout",
     "output_type": "stream",
     "text": [
      "Job renamed to 'renamed_from_jupyter'.\n"
     ]
    }
   ],
   "source": [
    "#%job(name=renamed_from_jupyter)"
   ]
  },
  {
   "cell_type": "code",
   "execution_count": 20,
   "metadata": {},
   "outputs": [
    {
     "ename": "Pragma error",
     "evalue": "Directive 'submit_job 0' not known.",
     "execution_count": 20,
     "output_type": "error",
     "traceback": []
    }
   ],
   "source": [
    "#%submit_job 0"
   ]
  },
  {
   "cell_type": "code",
   "execution_count": 21,
   "metadata": {},
   "outputs": [
    {
     "name": "stdout",
     "output_type": "stream",
     "text": [
      "Submitting the job to the proactive scheduler...\n",
      "job_id: 790\n",
      "Getting job output...\n",
      "True"
     ]
    }
   ],
   "source": [
    "#%submit_job()"
   ]
  },
  {
   "cell_type": "code",
   "execution_count": null,
   "metadata": {},
   "outputs": [],
   "source": []
  }
 ],
 "metadata": {
  "kernelspec": {
   "display_name": "ProActive",
   "language": "python",
   "name": "proactive"
  },
  "language_info": {
   "codemirror_mode": "ProActive",
   "file_extension": ".py",
   "mimetype": "text/x-python",
   "name": "python"
  }
 },
 "nbformat": 4,
 "nbformat_minor": 2
}
