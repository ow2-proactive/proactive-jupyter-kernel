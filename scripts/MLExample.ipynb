{
 "cells": [
  {
   "cell_type": "markdown",
   "metadata": {},
   "source": [
    "### Connecting"
   ]
  },
  {
   "cell_type": "code",
   "execution_count": null,
   "metadata": {},
   "outputs": [],
   "source": [
    "#%connect(host=HOST,port=PORT,login=LOGIN,password=PASSWORD)"
   ]
  },
  {
   "cell_type": "markdown",
   "metadata": {},
   "source": [
    "### Creating task _import_"
   ]
  },
  {
   "cell_type": "code",
   "execution_count": 21,
   "metadata": {},
   "outputs": [
    {
     "name": "stdout",
     "output_type": "stream",
     "text": [
      "WARNING: Task 'import' exists already...\n",
      "Changing script language to 'Python' ...\n",
      "Done.\n"
     ]
    }
   ],
   "source": [
    "#%task(name=import)\n",
    "import pandas as pd\n",
    "import bz2\n",
    "from sklearn.datasets import load_boston\n",
    "boston = load_boston()\n",
    "dataframe_load = pd.DataFrame(boston.data)\n",
    "dataframe_load.columns = boston.feature_names \n",
    "data_label = boston.target\n",
    "dataframe = dataframe_load.assign(LABEL=data_label)\n",
    "\n",
    "dataframe_json = dataframe.to_json(orient='split').encode()\n",
    "compressed_data = bz2.compress(dataframe_json)\n",
    "dataframe.head()\n",
    "\n",
    "variables.put(\"dataframe_json\", dataframe_json)\n",
    "#result = dataframe_json"
   ]
  },
  {
   "cell_type": "markdown",
   "metadata": {},
   "source": [
    "### Adding fork environment to _import_"
   ]
  },
  {
   "cell_type": "code",
   "execution_count": 4,
   "metadata": {},
   "outputs": [
    {
     "name": "stdout",
     "output_type": "stream",
     "text": [
      "Adding a fork environment to the proactive task...\n",
      "Fork environment added to 'import'.\n"
     ]
    }
   ],
   "source": [
    "#%fork_env(name=import,path=./fork_env.py)"
   ]
  },
  {
   "cell_type": "markdown",
   "metadata": {},
   "source": [
    "### Creating task _split_"
   ]
  },
  {
   "cell_type": "code",
   "execution_count": 5,
   "metadata": {},
   "outputs": [
    {
     "name": "stdout",
     "output_type": "stream",
     "text": [
      "Creating a proactive 'Python' task...\n",
      "Adding a selection script to the proactive task...\n",
      "Task 'split' created.\n",
      "Dependence 'import'==>'split' added.\n",
      "Done.\n"
     ]
    }
   ],
   "source": [
    "#%task(name=split,dep=[import])\n",
    "import pandas as pd\n",
    "from sklearn.model_selection import train_test_split\n",
    "\n",
    "dataframe_json = variables.get(\"dataframe_json\")\n",
    "\n",
    "dataframe = pd.read_json(dataframe_json, orient='split')\n",
    "X_train, X_test = train_test_split(dataframe, test_size=30)\n",
    "\n",
    "variables.put(\"X_train_json\", X_train.to_json(orient='split').encode())\n",
    "variables.put(\"X_test_json\", X_test.to_json(orient='split').encode())"
   ]
  },
  {
   "cell_type": "markdown",
   "metadata": {},
   "source": [
    "### Adding fork environment to _split_"
   ]
  },
  {
   "cell_type": "code",
   "execution_count": 8,
   "metadata": {},
   "outputs": [
    {
     "name": "stdout",
     "output_type": "stream",
     "text": [
      "Adding a fork environment to the proactive task...\n",
      "Fork environment added to 'split'.\n"
     ]
    }
   ],
   "source": [
    "#%fork_env(name=split,path=./fork_env.py)"
   ]
  },
  {
   "cell_type": "markdown",
   "metadata": {},
   "source": [
    "### Creating task _train_"
   ]
  },
  {
   "cell_type": "code",
   "execution_count": 9,
   "metadata": {},
   "outputs": [
    {
     "name": "stdout",
     "output_type": "stream",
     "text": [
      "Creating a proactive 'Python' task...\n",
      "Adding a selection script to the proactive task...\n",
      "Task 'train' created.\n",
      "Dependence 'split'==>'train' added.\n",
      "Done.\n"
     ]
    }
   ],
   "source": [
    "#%task(name=train,dep=[split])\n",
    "from sklearn.linear_model import LinearRegression\n",
    "import pandas as pd\n",
    "import pickle\n",
    "# Fit the model on 33%\n",
    "columns=\"LABEL\"\n",
    "\n",
    "X_train = pd.read_json(variables.get(\"X_train_json\"), orient='split')\n",
    "\n",
    "dataframe_train = X_train.drop(columns, axis=1, inplace=False)\n",
    "dataframe_label = X_train.filter(columns, axis=1)\n",
    "model = LinearRegression()\n",
    "model.fit(dataframe_train, dataframe_label)\n",
    "# save the model to disk\n",
    "filename = 'finalized_model.sav'\n",
    "pickle.dump(model, open(filename, 'wb'))\n",
    "\n",
    "variables.put(\"filename\", filename)"
   ]
  },
  {
   "cell_type": "markdown",
   "metadata": {},
   "source": [
    "### Adding fork environment to _train_"
   ]
  },
  {
   "cell_type": "code",
   "execution_count": 10,
   "metadata": {},
   "outputs": [
    {
     "name": "stdout",
     "output_type": "stream",
     "text": [
      "Adding a fork environment to the proactive task...\n",
      "Fork environment added to 'train'.\n"
     ]
    }
   ],
   "source": [
    "#%fork_env(name=train,path=./fork_env.py)"
   ]
  },
  {
   "cell_type": "markdown",
   "metadata": {},
   "source": [
    "### Creating task _predict_"
   ]
  },
  {
   "cell_type": "code",
   "execution_count": 12,
   "metadata": {},
   "outputs": [
    {
     "name": "stdout",
     "output_type": "stream",
     "text": [
      "WARNING: Task 'predict' exists already...\n",
      "Changing script language to 'Python' ...\n",
      "Dependence 'train'==>'predict' added.\n",
      "Dependence 'split'==>'predict' added.\n",
      "WARNING: Task 'kjhasdad' does not exist, dependence ignored.\n",
      "Done.\n"
     ]
    }
   ],
   "source": [
    "#%task(name=predict,dep=[train,split,kjhasdad])\n",
    "# load the model from disk\n",
    "import pandas as pd\n",
    "import pickle\n",
    "\n",
    "columns=\"LABEL\"\n",
    "\n",
    "X_test = pd.read_json(variables.get(\"X_test_json\"), orient='split')\n",
    "\n",
    "dataframe_test = X_test.drop(columns, axis=1, inplace=False)\n",
    "dataframe_label = X_test.filter(columns, axis=1)\n",
    "loaded_model = pickle.load(open(variables.get(\"filename\"), 'rb'))\n",
    "result = loaded_model.score(dataframe_test, dataframe_label)\n",
    "print(result)"
   ]
  },
  {
   "cell_type": "markdown",
   "metadata": {},
   "source": [
    "### Adding fork environment to _predict_"
   ]
  },
  {
   "cell_type": "code",
   "execution_count": 13,
   "metadata": {},
   "outputs": [
    {
     "name": "stdout",
     "output_type": "stream",
     "text": [
      "Adding a fork environment to the proactive task...\n",
      "Fork environment added to 'predict'.\n"
     ]
    }
   ],
   "source": [
    "#%fork_env(name=predict,path=./fork_env.py)"
   ]
  },
  {
   "cell_type": "markdown",
   "metadata": {},
   "source": [
    "### Plotting the job"
   ]
  },
  {
   "cell_type": "code",
   "execution_count": 20,
   "metadata": {},
   "outputs": [
    {
     "name": "stdout",
     "output_type": "stream",
     "text": [
      "Plotting...\n"
     ]
    },
    {
     "data": {
      "image/png": "[encoded data removed]"
     },
     "metadata": {},
     "output_type": "display_data"
    }
   ],
   "source": [
    "#%draw_job()"
   ]
  },
  {
   "cell_type": "markdown",
   "metadata": {},
   "source": [
    "### Submitting the job to the scheduler"
   ]
  },
  {
   "cell_type": "code",
   "execution_count": 18,
   "metadata": {},
   "outputs": [
    {
     "name": "stdout",
     "output_type": "stream",
     "text": [
      "Creating a proactive job...\n",
      "Job 'MLExample' created.\n",
      "Adding the created tasks to 'MLExample' ...\n",
      "Submitting the job to the proactive scheduler...\n",
      "job_id: 123\n"
     ]
    }
   ],
   "source": [
    "#%submit_job()"
   ]
  },
  {
   "cell_type": "markdown",
   "metadata": {},
   "source": [
    "## HELP!!! I forgot how to use get_result"
   ]
  },
  {
   "cell_type": "code",
   "execution_count": 28,
   "metadata": {},
   "outputs": [
    {
     "name": "stdout",
     "output_type": "stream",
     "text": [
      "#%get_result(): gets and prints the job results\n",
      "Usages:\n",
      "   #%get_result(id=JOB_ID)\n"
     ]
    }
   ],
   "source": [
    "#%help(pragma=get_result)"
   ]
  },
  {
   "cell_type": "markdown",
   "metadata": {},
   "source": [
    "### Getting job results"
   ]
  },
  {
   "cell_type": "code",
   "execution_count": 19,
   "metadata": {},
   "outputs": [
    {
     "name": "stdout",
     "output_type": "stream",
     "text": [
      "Getting job 123 output...\n",
      "Result:\n",
      "True\n",
      "True\n",
      "None\n",
      "True"
     ]
    }
   ],
   "source": [
    "#%get_result(id=123)"
   ]
  },
  {
   "cell_type": "code",
   "execution_count": null,
   "metadata": {},
   "outputs": [],
   "source": []
  }
 ],
 "metadata": {
  "kernelspec": {
   "display_name": "ProActive",
   "language": "python",
   "name": "proactive"
  },
  "language_info": {
   "codemirror_mode": "python",
   "file_extension": ".py",
   "mimetype": "text/x-python",
   "name": "python"
  }
 },
 "nbformat": 4,
 "nbformat_minor": 2
}
